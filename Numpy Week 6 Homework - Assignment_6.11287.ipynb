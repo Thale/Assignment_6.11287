{
 "cells": [
  {
   "cell_type": "markdown",
   "metadata": {},
   "source": [
    "Problem Statement 1:\n",
    "\n",
    "Write a function so that the columns of the output matrix are powers of the input\n",
    "vector.\n",
    "The order of the powers is determined by the increasing boolean argument. Specifically,\n",
    "when increasing is False, the i-th output column is the input vector raised element-wise\n",
    "to the power of N - i - 1.\n",
    "\n",
    "HINT: Such a matrix with a geometric progression in each row is named for Alexandre-\n",
    "Theophile Vandermonde.\n",
    "\n",
    "\n",
    "Returns:\t\n",
    "out : ndarray\n",
    "\n",
    "Vandermonde matrix. If increasing is False, the first column is x^(N-1), the second x^(N-2) and so forth. If increasing is True, the columns are x^0, x^1, ..., x^(N-1)\n"
   ]
  },
  {
   "cell_type": "code",
   "execution_count": null,
   "metadata": {},
   "outputs": [],
   "source": []
  },
  {
   "cell_type": "code",
   "execution_count": 18,
   "metadata": {},
   "outputs": [
    {
     "name": "stdout",
     "output_type": "stream",
     "text": [
      "4\n",
      "[4 5 6 7]\n",
      "[[ 64  16   4   1]\n",
      " [125  25   5   1]\n",
      " [216  36   6   1]\n",
      " [343  49   7   1]]\n"
     ]
    }
   ],
   "source": [
    "import numpy as np\n",
    "# numpy.vander(x, N=None, increasing=False)[source]\n",
    "\n",
    "def my_vander(): # where x is an array of integers():\n",
    "    #x = np.array([1,2,3,4,5])\n",
    "    x = np.array([4,5,6,7])\n",
    "    N = int(len(x))\n",
    "    #print(N)\n",
    "    #print(x)\n",
    "    y = np.vander(x, N, increasing=False)\n",
    "    #y = np.vander(x, N, increasing=True)\n",
    "    print(y)\n",
    "\n",
    "my_vander()\n"
   ]
  },
  {
   "cell_type": "raw",
   "metadata": {},
   "source": []
  },
  {
   "cell_type": "markdown",
   "metadata": {},
   "source": [
    "#### "
   ]
  }
 ],
 "metadata": {
  "kernelspec": {
   "display_name": "Python 3",
   "language": "python",
   "name": "python3"
  }
 },
 "nbformat": 4,
 "nbformat_minor": 2
}
